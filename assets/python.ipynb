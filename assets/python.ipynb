{
 "cells": [
  {
   "cell_type": "markdown",
   "metadata": {},
   "source": [
    "This is a simple example project where I want to extract parameters from piece of spectrum data that I have. My gaussian function has the following form:\n",
    "\n",
    "$f(x) = a \\mathrm{e}{\\frac{-(x-c)^2}{2c^2}} + d$\n",
    "\n",
    "Where $a$ is a normalisation coefficient, $b$ is the center point, $c$ defines with the width of the curve and $d$ is the height above the x axis.\n",
    "\n",
    "First lets load and plot the data"
   ]
  },
  {
   "cell_type": "code",
   "execution_count": 10,
   "metadata": {},
   "outputs": [
    {
     "name": "stdout",
     "output_type": "stream",
     "text": [
      "Populating the interactive namespace from numpy and matplotlib\n"
     ]
    },
    {
     "name": "stderr",
     "output_type": "stream",
     "text": [
      "/usr/local/lib/python3.5/dist-packages/IPython/core/magics/pylab.py:160: UserWarning: pylab import has clobbered these variables: ['figure', 'show']\n",
      "`%matplotlib` prevents importing * from pylab and numpy\n",
      "  \"\\n`%matplotlib` prevents importing * from pylab and numpy\"\n"
     ]
    },
    {
     "data": {
      "text/html": [
       "\n",
       "    <div class=\"bk-root\">\n",
       "        <a href=\"https://bokeh.pydata.org\" target=\"_blank\" class=\"bk-logo bk-logo-small bk-logo-notebook\"></a>\n",
       "        <span id=\"e43e6497-200d-4894-a9ff-86526e1b335d\">Loading BokehJS ...</span>\n",
       "    </div>"
      ]
     },
     "metadata": {},
     "output_type": "display_data"
    },
    {
     "data": {
      "application/javascript": [
       "\n",
       "(function(root) {\n",
       "  function now() {\n",
       "    return new Date();\n",
       "  }\n",
       "\n",
       "  var force = true;\n",
       "\n",
       "  if (typeof (root._bokeh_onload_callbacks) === \"undefined\" || force === true) {\n",
       "    root._bokeh_onload_callbacks = [];\n",
       "    root._bokeh_is_loading = undefined;\n",
       "  }\n",
       "\n",
       "  var JS_MIME_TYPE = 'application/javascript';\n",
       "  var HTML_MIME_TYPE = 'text/html';\n",
       "  var EXEC_MIME_TYPE = 'application/vnd.bokehjs_exec.v0+json';\n",
       "  var CLASS_NAME = 'output_bokeh rendered_html';\n",
       "\n",
       "  /**\n",
       "   * Render data to the DOM node\n",
       "   */\n",
       "  function render(props, node) {\n",
       "    var script = document.createElement(\"script\");\n",
       "    node.appendChild(script);\n",
       "  }\n",
       "\n",
       "  /**\n",
       "   * Handle when an output is cleared or removed\n",
       "   */\n",
       "  function handleClearOutput(event, handle) {\n",
       "    var cell = handle.cell;\n",
       "\n",
       "    var id = cell.output_area._bokeh_element_id;\n",
       "    var server_id = cell.output_area._bokeh_server_id;\n",
       "    // Clean up Bokeh references\n",
       "    if (id !== undefined) {\n",
       "      Bokeh.index[id].model.document.clear();\n",
       "      delete Bokeh.index[id];\n",
       "    }\n",
       "\n",
       "    if (server_id !== undefined) {\n",
       "      // Clean up Bokeh references\n",
       "      var cmd = \"from bokeh.io import _state; print(_state.uuid_to_server['\" + server_id + \"'].get_sessions()[0].document.roots[0]._id)\";\n",
       "      cell.notebook.kernel.execute(cmd, {\n",
       "        iopub: {\n",
       "          output: function(msg) {\n",
       "            var element_id = msg.content.text.trim();\n",
       "            Bokeh.index[element_id].model.document.clear();\n",
       "            delete Bokeh.index[element_id];\n",
       "          }\n",
       "        }\n",
       "      });\n",
       "      // Destroy server and session\n",
       "      var cmd = \"from bokeh import io; io._destroy_server('\" + server_id + \"')\";\n",
       "      cell.notebook.kernel.execute(cmd);\n",
       "    }\n",
       "  }\n",
       "\n",
       "  /**\n",
       "   * Handle when a new output is added\n",
       "   */\n",
       "  function handleAddOutput(event, handle) {\n",
       "    var output_area = handle.output_area;\n",
       "    var output = handle.output;\n",
       "\n",
       "    // limit handleAddOutput to display_data with EXEC_MIME_TYPE content only\n",
       "    if ((output.output_type != \"display_data\") || (!output.data.hasOwnProperty(EXEC_MIME_TYPE))) {\n",
       "      return\n",
       "    }\n",
       "\n",
       "    var toinsert = output_area.element.find(`.${CLASS_NAME.split(' ')[0]}`);\n",
       "\n",
       "    if (output.metadata[EXEC_MIME_TYPE][\"id\"] !== undefined) {\n",
       "      toinsert[0].firstChild.textContent = output.data[JS_MIME_TYPE];\n",
       "      // store reference to embed id on output_area\n",
       "      output_area._bokeh_element_id = output.metadata[EXEC_MIME_TYPE][\"id\"];\n",
       "    }\n",
       "    if (output.metadata[EXEC_MIME_TYPE][\"server_id\"] !== undefined) {\n",
       "      var bk_div = document.createElement(\"div\");\n",
       "      bk_div.innerHTML = output.data[HTML_MIME_TYPE];\n",
       "      var script_attrs = bk_div.children[0].attributes;\n",
       "      for (var i = 0; i < script_attrs.length; i++) {\n",
       "        toinsert[0].firstChild.setAttribute(script_attrs[i].name, script_attrs[i].value);\n",
       "      }\n",
       "      // store reference to server id on output_area\n",
       "      output_area._bokeh_server_id = output.metadata[EXEC_MIME_TYPE][\"server_id\"];\n",
       "    }\n",
       "  }\n",
       "\n",
       "  function register_renderer(events, OutputArea) {\n",
       "\n",
       "    function append_mime(data, metadata, element) {\n",
       "      // create a DOM node to render to\n",
       "      var toinsert = this.create_output_subarea(\n",
       "        metadata,\n",
       "        CLASS_NAME,\n",
       "        EXEC_MIME_TYPE\n",
       "      );\n",
       "      this.keyboard_manager.register_events(toinsert);\n",
       "      // Render to node\n",
       "      var props = {data: data, metadata: metadata[EXEC_MIME_TYPE]};\n",
       "      render(props, toinsert[0]);\n",
       "      element.append(toinsert);\n",
       "      return toinsert\n",
       "    }\n",
       "\n",
       "    /* Handle when an output is cleared or removed */\n",
       "    events.on('clear_output.CodeCell', handleClearOutput);\n",
       "    events.on('delete.Cell', handleClearOutput);\n",
       "\n",
       "    /* Handle when a new output is added */\n",
       "    events.on('output_added.OutputArea', handleAddOutput);\n",
       "\n",
       "    /**\n",
       "     * Register the mime type and append_mime function with output_area\n",
       "     */\n",
       "    OutputArea.prototype.register_mime_type(EXEC_MIME_TYPE, append_mime, {\n",
       "      /* Is output safe? */\n",
       "      safe: true,\n",
       "      /* Index of renderer in `output_area.display_order` */\n",
       "      index: 0\n",
       "    });\n",
       "  }\n",
       "\n",
       "  // register the mime type if in Jupyter Notebook environment and previously unregistered\n",
       "  if (root.Jupyter !== undefined) {\n",
       "    var events = require('base/js/events');\n",
       "    var OutputArea = require('notebook/js/outputarea').OutputArea;\n",
       "\n",
       "    if (OutputArea.prototype.mime_types().indexOf(EXEC_MIME_TYPE) == -1) {\n",
       "      register_renderer(events, OutputArea);\n",
       "    }\n",
       "  }\n",
       "\n",
       "  \n",
       "  if (typeof (root._bokeh_timeout) === \"undefined\" || force === true) {\n",
       "    root._bokeh_timeout = Date.now() + 5000;\n",
       "    root._bokeh_failed_load = false;\n",
       "  }\n",
       "\n",
       "  var NB_LOAD_WARNING = {'data': {'text/html':\n",
       "     \"<div style='background-color: #fdd'>\\n\"+\n",
       "     \"<p>\\n\"+\n",
       "     \"BokehJS does not appear to have successfully loaded. If loading BokehJS from CDN, this \\n\"+\n",
       "     \"may be due to a slow or bad network connection. Possible fixes:\\n\"+\n",
       "     \"</p>\\n\"+\n",
       "     \"<ul>\\n\"+\n",
       "     \"<li>re-rerun `output_notebook()` to attempt to load from CDN again, or</li>\\n\"+\n",
       "     \"<li>use INLINE resources instead, as so:</li>\\n\"+\n",
       "     \"</ul>\\n\"+\n",
       "     \"<code>\\n\"+\n",
       "     \"from bokeh.resources import INLINE\\n\"+\n",
       "     \"output_notebook(resources=INLINE)\\n\"+\n",
       "     \"</code>\\n\"+\n",
       "     \"</div>\"}};\n",
       "\n",
       "  function display_loaded() {\n",
       "    var el = document.getElementById(\"e43e6497-200d-4894-a9ff-86526e1b335d\");\n",
       "    if (el != null) {\n",
       "      el.textContent = \"BokehJS is loading...\";\n",
       "    }\n",
       "    if (root.Bokeh !== undefined) {\n",
       "      if (el != null) {\n",
       "        el.textContent = \"BokehJS \" + root.Bokeh.version + \" successfully loaded.\";\n",
       "      }\n",
       "    } else if (Date.now() < root._bokeh_timeout) {\n",
       "      setTimeout(display_loaded, 100)\n",
       "    }\n",
       "  }\n",
       "\n",
       "\n",
       "  function run_callbacks() {\n",
       "    try {\n",
       "      root._bokeh_onload_callbacks.forEach(function(callback) { callback() });\n",
       "    }\n",
       "    finally {\n",
       "      delete root._bokeh_onload_callbacks\n",
       "    }\n",
       "    console.info(\"Bokeh: all callbacks have finished\");\n",
       "  }\n",
       "\n",
       "  function load_libs(js_urls, callback) {\n",
       "    root._bokeh_onload_callbacks.push(callback);\n",
       "    if (root._bokeh_is_loading > 0) {\n",
       "      console.log(\"Bokeh: BokehJS is being loaded, scheduling callback at\", now());\n",
       "      return null;\n",
       "    }\n",
       "    if (js_urls == null || js_urls.length === 0) {\n",
       "      run_callbacks();\n",
       "      return null;\n",
       "    }\n",
       "    console.log(\"Bokeh: BokehJS not loaded, scheduling load and callback at\", now());\n",
       "    root._bokeh_is_loading = js_urls.length;\n",
       "    for (var i = 0; i < js_urls.length; i++) {\n",
       "      var url = js_urls[i];\n",
       "      var s = document.createElement('script');\n",
       "      s.src = url;\n",
       "      s.async = false;\n",
       "      s.onreadystatechange = s.onload = function() {\n",
       "        root._bokeh_is_loading--;\n",
       "        if (root._bokeh_is_loading === 0) {\n",
       "          console.log(\"Bokeh: all BokehJS libraries loaded\");\n",
       "          run_callbacks()\n",
       "        }\n",
       "      };\n",
       "      s.onerror = function() {\n",
       "        console.warn(\"failed to load library \" + url);\n",
       "      };\n",
       "      console.log(\"Bokeh: injecting script tag for BokehJS library: \", url);\n",
       "      document.getElementsByTagName(\"head\")[0].appendChild(s);\n",
       "    }\n",
       "  };var element = document.getElementById(\"e43e6497-200d-4894-a9ff-86526e1b335d\");\n",
       "  if (element == null) {\n",
       "    console.log(\"Bokeh: ERROR: autoload.js configured with elementid 'e43e6497-200d-4894-a9ff-86526e1b335d' but no matching script tag was found. \")\n",
       "    return false;\n",
       "  }\n",
       "\n",
       "  var js_urls = [\"https://cdn.pydata.org/bokeh/release/bokeh-0.12.9.min.js\", \"https://cdn.pydata.org/bokeh/release/bokeh-widgets-0.12.9.min.js\", \"https://cdn.pydata.org/bokeh/release/bokeh-tables-0.12.9.min.js\", \"https://cdn.pydata.org/bokeh/release/bokeh-gl-0.12.9.min.js\"];\n",
       "\n",
       "  var inline_js = [\n",
       "    function(Bokeh) {\n",
       "      Bokeh.set_log_level(\"info\");\n",
       "    },\n",
       "    \n",
       "    function(Bokeh) {\n",
       "      \n",
       "    },\n",
       "    function(Bokeh) {\n",
       "      console.log(\"Bokeh: injecting CSS: https://cdn.pydata.org/bokeh/release/bokeh-0.12.9.min.css\");\n",
       "      Bokeh.embed.inject_css(\"https://cdn.pydata.org/bokeh/release/bokeh-0.12.9.min.css\");\n",
       "      console.log(\"Bokeh: injecting CSS: https://cdn.pydata.org/bokeh/release/bokeh-widgets-0.12.9.min.css\");\n",
       "      Bokeh.embed.inject_css(\"https://cdn.pydata.org/bokeh/release/bokeh-widgets-0.12.9.min.css\");\n",
       "      console.log(\"Bokeh: injecting CSS: https://cdn.pydata.org/bokeh/release/bokeh-tables-0.12.9.min.css\");\n",
       "      Bokeh.embed.inject_css(\"https://cdn.pydata.org/bokeh/release/bokeh-tables-0.12.9.min.css\");\n",
       "    }\n",
       "  ];\n",
       "\n",
       "  function run_inline_js() {\n",
       "    \n",
       "    if ((root.Bokeh !== undefined) || (force === true)) {\n",
       "      for (var i = 0; i < inline_js.length; i++) {\n",
       "        inline_js[i].call(root, root.Bokeh);\n",
       "      }if (force === true) {\n",
       "        display_loaded();\n",
       "      }} else if (Date.now() < root._bokeh_timeout) {\n",
       "      setTimeout(run_inline_js, 100);\n",
       "    } else if (!root._bokeh_failed_load) {\n",
       "      console.log(\"Bokeh: BokehJS failed to load within specified timeout.\");\n",
       "      root._bokeh_failed_load = true;\n",
       "    } else if (force !== true) {\n",
       "      var cell = $(document.getElementById(\"e43e6497-200d-4894-a9ff-86526e1b335d\")).parents('.cell').data().cell;\n",
       "      cell.output_area.append_execute_result(NB_LOAD_WARNING)\n",
       "    }\n",
       "\n",
       "  }\n",
       "\n",
       "  if (root._bokeh_is_loading === 0) {\n",
       "    console.log(\"Bokeh: BokehJS loaded, going straight to plotting\");\n",
       "    run_inline_js();\n",
       "  } else {\n",
       "    load_libs(js_urls, function() {\n",
       "      console.log(\"Bokeh: BokehJS plotting callback run at\", now());\n",
       "      run_inline_js();\n",
       "    });\n",
       "  }\n",
       "}(window));"
      ],
      "application/vnd.bokehjs_load.v0+json": "\n(function(root) {\n  function now() {\n    return new Date();\n  }\n\n  var force = true;\n\n  if (typeof (root._bokeh_onload_callbacks) === \"undefined\" || force === true) {\n    root._bokeh_onload_callbacks = [];\n    root._bokeh_is_loading = undefined;\n  }\n\n  \n\n  \n  if (typeof (root._bokeh_timeout) === \"undefined\" || force === true) {\n    root._bokeh_timeout = Date.now() + 5000;\n    root._bokeh_failed_load = false;\n  }\n\n  var NB_LOAD_WARNING = {'data': {'text/html':\n     \"<div style='background-color: #fdd'>\\n\"+\n     \"<p>\\n\"+\n     \"BokehJS does not appear to have successfully loaded. If loading BokehJS from CDN, this \\n\"+\n     \"may be due to a slow or bad network connection. Possible fixes:\\n\"+\n     \"</p>\\n\"+\n     \"<ul>\\n\"+\n     \"<li>re-rerun `output_notebook()` to attempt to load from CDN again, or</li>\\n\"+\n     \"<li>use INLINE resources instead, as so:</li>\\n\"+\n     \"</ul>\\n\"+\n     \"<code>\\n\"+\n     \"from bokeh.resources import INLINE\\n\"+\n     \"output_notebook(resources=INLINE)\\n\"+\n     \"</code>\\n\"+\n     \"</div>\"}};\n\n  function display_loaded() {\n    var el = document.getElementById(\"e43e6497-200d-4894-a9ff-86526e1b335d\");\n    if (el != null) {\n      el.textContent = \"BokehJS is loading...\";\n    }\n    if (root.Bokeh !== undefined) {\n      if (el != null) {\n        el.textContent = \"BokehJS \" + root.Bokeh.version + \" successfully loaded.\";\n      }\n    } else if (Date.now() < root._bokeh_timeout) {\n      setTimeout(display_loaded, 100)\n    }\n  }\n\n\n  function run_callbacks() {\n    try {\n      root._bokeh_onload_callbacks.forEach(function(callback) { callback() });\n    }\n    finally {\n      delete root._bokeh_onload_callbacks\n    }\n    console.info(\"Bokeh: all callbacks have finished\");\n  }\n\n  function load_libs(js_urls, callback) {\n    root._bokeh_onload_callbacks.push(callback);\n    if (root._bokeh_is_loading > 0) {\n      console.log(\"Bokeh: BokehJS is being loaded, scheduling callback at\", now());\n      return null;\n    }\n    if (js_urls == null || js_urls.length === 0) {\n      run_callbacks();\n      return null;\n    }\n    console.log(\"Bokeh: BokehJS not loaded, scheduling load and callback at\", now());\n    root._bokeh_is_loading = js_urls.length;\n    for (var i = 0; i < js_urls.length; i++) {\n      var url = js_urls[i];\n      var s = document.createElement('script');\n      s.src = url;\n      s.async = false;\n      s.onreadystatechange = s.onload = function() {\n        root._bokeh_is_loading--;\n        if (root._bokeh_is_loading === 0) {\n          console.log(\"Bokeh: all BokehJS libraries loaded\");\n          run_callbacks()\n        }\n      };\n      s.onerror = function() {\n        console.warn(\"failed to load library \" + url);\n      };\n      console.log(\"Bokeh: injecting script tag for BokehJS library: \", url);\n      document.getElementsByTagName(\"head\")[0].appendChild(s);\n    }\n  };var element = document.getElementById(\"e43e6497-200d-4894-a9ff-86526e1b335d\");\n  if (element == null) {\n    console.log(\"Bokeh: ERROR: autoload.js configured with elementid 'e43e6497-200d-4894-a9ff-86526e1b335d' but no matching script tag was found. \")\n    return false;\n  }\n\n  var js_urls = [\"https://cdn.pydata.org/bokeh/release/bokeh-0.12.9.min.js\", \"https://cdn.pydata.org/bokeh/release/bokeh-widgets-0.12.9.min.js\", \"https://cdn.pydata.org/bokeh/release/bokeh-tables-0.12.9.min.js\", \"https://cdn.pydata.org/bokeh/release/bokeh-gl-0.12.9.min.js\"];\n\n  var inline_js = [\n    function(Bokeh) {\n      Bokeh.set_log_level(\"info\");\n    },\n    \n    function(Bokeh) {\n      \n    },\n    function(Bokeh) {\n      console.log(\"Bokeh: injecting CSS: https://cdn.pydata.org/bokeh/release/bokeh-0.12.9.min.css\");\n      Bokeh.embed.inject_css(\"https://cdn.pydata.org/bokeh/release/bokeh-0.12.9.min.css\");\n      console.log(\"Bokeh: injecting CSS: https://cdn.pydata.org/bokeh/release/bokeh-widgets-0.12.9.min.css\");\n      Bokeh.embed.inject_css(\"https://cdn.pydata.org/bokeh/release/bokeh-widgets-0.12.9.min.css\");\n      console.log(\"Bokeh: injecting CSS: https://cdn.pydata.org/bokeh/release/bokeh-tables-0.12.9.min.css\");\n      Bokeh.embed.inject_css(\"https://cdn.pydata.org/bokeh/release/bokeh-tables-0.12.9.min.css\");\n    }\n  ];\n\n  function run_inline_js() {\n    \n    if ((root.Bokeh !== undefined) || (force === true)) {\n      for (var i = 0; i < inline_js.length; i++) {\n        inline_js[i].call(root, root.Bokeh);\n      }if (force === true) {\n        display_loaded();\n      }} else if (Date.now() < root._bokeh_timeout) {\n      setTimeout(run_inline_js, 100);\n    } else if (!root._bokeh_failed_load) {\n      console.log(\"Bokeh: BokehJS failed to load within specified timeout.\");\n      root._bokeh_failed_load = true;\n    } else if (force !== true) {\n      var cell = $(document.getElementById(\"e43e6497-200d-4894-a9ff-86526e1b335d\")).parents('.cell').data().cell;\n      cell.output_area.append_execute_result(NB_LOAD_WARNING)\n    }\n\n  }\n\n  if (root._bokeh_is_loading === 0) {\n    console.log(\"Bokeh: BokehJS loaded, going straight to plotting\");\n    run_inline_js();\n  } else {\n    load_libs(js_urls, function() {\n      console.log(\"Bokeh: BokehJS plotting callback run at\", now());\n      run_inline_js();\n    });\n  }\n}(window));"
     },
     "metadata": {},
     "output_type": "display_data"
    }
   ],
   "source": [
    "%pylab inline\n",
    "%config InlineBackend.figure_format = 'retina'\n",
    "from bokeh.plotting import figure, output_notebook, show\n",
    "output_notebook()\n",
    "import numpy as np"
   ]
  },
  {
   "cell_type": "code",
   "execution_count": 11,
   "metadata": {},
   "outputs": [],
   "source": [
    "def gaussian(x, mu, sig):\n",
    "    return np.exp(-np.power(x - mu, 2.) / (2 * np.power(sig, 2.)))\n",
    "x = np.linspace(970, 1050, 500)\n",
    "y = gaussian(x, 995, 1)*12000 + np.random.random_sample(size=x.shape) * 1500\n",
    "np.savetxt('./data/data.txt', np.vstack((x, y)).T)"
   ]
  },
  {
   "cell_type": "code",
   "execution_count": 21,
   "metadata": {},
   "outputs": [
    {
     "data": {
      "text/html": [
       "\n",
       "<div class=\"bk-root\">\n",
       "    <div class=\"bk-plotdiv\" id=\"d90c27e7-277f-44f0-a223-175dfb56cb43\"></div>\n",
       "</div>"
      ]
     },
     "metadata": {},
     "output_type": "display_data"
    },
    {
     "data": {
      "application/javascript": [
       "(function(root) {\n",
       "  function embed_document(root) {\n",
       "    var docs_json = {\"fd1853d5-59e0-42c8-8ae7-f7a30e38541a\":{\"roots\":{\"references\":[{\"attributes\":{},\"id\":\"e4416628-ebd1-47fb-8e89-101adc7f2ab2\",\"type\":\"ResetTool\"},{\"attributes\":{\"bottom_units\":\"screen\",\"fill_alpha\":{\"value\":0.5},\"fill_color\":{\"value\":\"lightgrey\"},\"left_units\":\"screen\",\"level\":\"overlay\",\"line_alpha\":{\"value\":1.0},\"line_color\":{\"value\":\"black\"},\"line_dash\":[4,4],\"line_width\":{\"value\":2},\"plot\":null,\"render_mode\":\"css\",\"right_units\":\"screen\",\"top_units\":\"screen\"},\"id\":\"1e5522f9-bf4e-4f4e-a3ab-af523b2fbc73\",\"type\":\"BoxAnnotation\"},{\"attributes\":{\"line_alpha\":{\"value\":0.1},\"line_color\":{\"value\":\"#1f77b4\"},\"line_width\":{\"value\":2},\"x\":{\"field\":\"x\"},\"y\":{\"field\":\"y\"}},\"id\":\"aa4bdef1-fefd-4a03-815e-07f0ee1d8b62\",\"type\":\"Line\"},{\"attributes\":{\"plot\":null,\"text\":\"data plot\"},\"id\":\"725ab7db-9451-460c-b522-90f8994bbbfe\",\"type\":\"Title\"},{\"attributes\":{\"axis_label\":\"counts [a.u.]\",\"formatter\":{\"id\":\"7d27938e-679f-4bed-9eab-0f57a9140b0d\",\"type\":\"BasicTickFormatter\"},\"plot\":{\"id\":\"a2f3f69a-9b0f-4644-b0ed-656ea4758e76\",\"subtype\":\"Figure\",\"type\":\"Plot\"},\"ticker\":{\"id\":\"e7895339-7a78-4bbf-adc7-1c8c4836fc95\",\"type\":\"BasicTicker\"}},\"id\":\"963b2db5-d1ac-4110-a34d-5f04a6fc5af2\",\"type\":\"LinearAxis\"},{\"attributes\":{\"dimension\":1,\"plot\":{\"id\":\"a2f3f69a-9b0f-4644-b0ed-656ea4758e76\",\"subtype\":\"Figure\",\"type\":\"Plot\"},\"ticker\":{\"id\":\"e7895339-7a78-4bbf-adc7-1c8c4836fc95\",\"type\":\"BasicTicker\"}},\"id\":\"f46fb5d1-4a69-4da8-968b-7e8d24594403\",\"type\":\"Grid\"},{\"attributes\":{\"below\":[{\"id\":\"e4695c7f-4bfd-4860-b333-b0ac10bd7f24\",\"type\":\"LinearAxis\"}],\"left\":[{\"id\":\"963b2db5-d1ac-4110-a34d-5f04a6fc5af2\",\"type\":\"LinearAxis\"}],\"renderers\":[{\"id\":\"e4695c7f-4bfd-4860-b333-b0ac10bd7f24\",\"type\":\"LinearAxis\"},{\"id\":\"56b2a7f5-e045-4a62-bb99-9678da7388f1\",\"type\":\"Grid\"},{\"id\":\"963b2db5-d1ac-4110-a34d-5f04a6fc5af2\",\"type\":\"LinearAxis\"},{\"id\":\"f46fb5d1-4a69-4da8-968b-7e8d24594403\",\"type\":\"Grid\"},{\"id\":\"1e5522f9-bf4e-4f4e-a3ab-af523b2fbc73\",\"type\":\"BoxAnnotation\"},{\"id\":\"42a835b2-145e-4599-9af0-c7dc000603d4\",\"type\":\"Legend\"},{\"id\":\"a7e52436-0338-4fcb-b949-061bd13f82d8\",\"type\":\"GlyphRenderer\"}],\"title\":{\"id\":\"725ab7db-9451-460c-b522-90f8994bbbfe\",\"type\":\"Title\"},\"toolbar\":{\"id\":\"b0f1aeae-8558-4e4b-ae88-afa10ca89ce4\",\"type\":\"Toolbar\"},\"x_range\":{\"id\":\"f6e058fc-0c86-46f9-b991-45bb207ccba3\",\"type\":\"DataRange1d\"},\"x_scale\":{\"id\":\"6ac02a1a-455b-4fb3-839f-800ba1e0ba88\",\"type\":\"LinearScale\"},\"y_range\":{\"id\":\"f64e0fc1-1a5a-4b50-8ea8-0573392a6117\",\"type\":\"DataRange1d\"},\"y_scale\":{\"id\":\"e9f97a26-840e-4d3d-9e15-a43ba5875c36\",\"type\":\"LinearScale\"}},\"id\":\"a2f3f69a-9b0f-4644-b0ed-656ea4758e76\",\"subtype\":\"Figure\",\"type\":\"Plot\"},{\"attributes\":{},\"id\":\"6f9680a3-8fe3-48d8-b4d3-6d4ee07a9fbd\",\"type\":\"BasicTicker\"},{\"attributes\":{\"source\":{\"id\":\"3034afc2-3776-41be-9ef0-6fbc96bcd829\",\"type\":\"ColumnDataSource\"}},\"id\":\"aac104b6-ab7d-42bc-bf3d-a95814e867ce\",\"type\":\"CDSView\"},{\"attributes\":{},\"id\":\"6ac02a1a-455b-4fb3-839f-800ba1e0ba88\",\"type\":\"LinearScale\"},{\"attributes\":{},\"id\":\"7d27938e-679f-4bed-9eab-0f57a9140b0d\",\"type\":\"BasicTickFormatter\"},{\"attributes\":{},\"id\":\"e9f97a26-840e-4d3d-9e15-a43ba5875c36\",\"type\":\"LinearScale\"},{\"attributes\":{\"label\":{\"value\":\"Temp.\"},\"renderers\":[{\"id\":\"a7e52436-0338-4fcb-b949-061bd13f82d8\",\"type\":\"GlyphRenderer\"}]},\"id\":\"734e6e03-3884-4280-8581-8f6a63e936c2\",\"type\":\"LegendItem\"},{\"attributes\":{\"callback\":null},\"id\":\"f64e0fc1-1a5a-4b50-8ea8-0573392a6117\",\"type\":\"DataRange1d\"},{\"attributes\":{\"line_color\":{\"value\":\"#1f77b4\"},\"line_width\":{\"value\":2},\"x\":{\"field\":\"x\"},\"y\":{\"field\":\"y\"}},\"id\":\"7b56e377-4382-4ee8-bc74-a3c04b325053\",\"type\":\"Line\"},{\"attributes\":{\"data_source\":{\"id\":\"3034afc2-3776-41be-9ef0-6fbc96bcd829\",\"type\":\"ColumnDataSource\"},\"glyph\":{\"id\":\"7b56e377-4382-4ee8-bc74-a3c04b325053\",\"type\":\"Line\"},\"hover_glyph\":null,\"muted_glyph\":null,\"nonselection_glyph\":{\"id\":\"aa4bdef1-fefd-4a03-815e-07f0ee1d8b62\",\"type\":\"Line\"},\"selection_glyph\":null,\"view\":{\"id\":\"aac104b6-ab7d-42bc-bf3d-a95814e867ce\",\"type\":\"CDSView\"}},\"id\":\"a7e52436-0338-4fcb-b949-061bd13f82d8\",\"type\":\"GlyphRenderer\"},{\"attributes\":{\"axis_label\":\"wavelength [nm]\",\"formatter\":{\"id\":\"bd24967e-d69e-4b31-bc46-caa19979ac44\",\"type\":\"BasicTickFormatter\"},\"plot\":{\"id\":\"a2f3f69a-9b0f-4644-b0ed-656ea4758e76\",\"subtype\":\"Figure\",\"type\":\"Plot\"},\"ticker\":{\"id\":\"6f9680a3-8fe3-48d8-b4d3-6d4ee07a9fbd\",\"type\":\"BasicTicker\"}},\"id\":\"e4695c7f-4bfd-4860-b333-b0ac10bd7f24\",\"type\":\"LinearAxis\"},{\"attributes\":{\"callback\":null},\"id\":\"f6e058fc-0c86-46f9-b991-45bb207ccba3\",\"type\":\"DataRange1d\"},{\"attributes\":{\"plot\":{\"id\":\"a2f3f69a-9b0f-4644-b0ed-656ea4758e76\",\"subtype\":\"Figure\",\"type\":\"Plot\"},\"ticker\":{\"id\":\"6f9680a3-8fe3-48d8-b4d3-6d4ee07a9fbd\",\"type\":\"BasicTicker\"}},\"id\":\"56b2a7f5-e045-4a62-bb99-9678da7388f1\",\"type\":\"Grid\"},{\"attributes\":{\"active_drag\":\"auto\",\"active_inspect\":\"auto\",\"active_scroll\":\"auto\",\"active_tap\":\"auto\",\"tools\":[{\"id\":\"5eaf7c56-b684-4d57-98ea-83868f1d40d3\",\"type\":\"PanTool\"},{\"id\":\"33fc57ae-28f8-4f4d-a80f-9e784ce9bcb0\",\"type\":\"WheelZoomTool\"},{\"id\":\"988453ef-d47f-474a-94ba-9895f433a947\",\"type\":\"BoxZoomTool\"},{\"id\":\"455f9ba4-fe31-4314-9951-7eb67ba3ebd1\",\"type\":\"SaveTool\"},{\"id\":\"e4416628-ebd1-47fb-8e89-101adc7f2ab2\",\"type\":\"ResetTool\"},{\"id\":\"b845f775-f3e3-4cc1-a52a-e13296c321f7\",\"type\":\"HelpTool\"}]},\"id\":\"b0f1aeae-8558-4e4b-ae88-afa10ca89ce4\",\"type\":\"Toolbar\"},{\"attributes\":{\"items\":[{\"id\":\"734e6e03-3884-4280-8581-8f6a63e936c2\",\"type\":\"LegendItem\"}],\"plot\":{\"id\":\"a2f3f69a-9b0f-4644-b0ed-656ea4758e76\",\"subtype\":\"Figure\",\"type\":\"Plot\"}},\"id\":\"42a835b2-145e-4599-9af0-c7dc000603d4\",\"type\":\"Legend\"},{\"attributes\":{},\"id\":\"b845f775-f3e3-4cc1-a52a-e13296c321f7\",\"type\":\"HelpTool\"},{\"attributes\":{\"overlay\":{\"id\":\"1e5522f9-bf4e-4f4e-a3ab-af523b2fbc73\",\"type\":\"BoxAnnotation\"}},\"id\":\"988453ef-d47f-474a-94ba-9895f433a947\",\"type\":\"BoxZoomTool\"},{\"attributes\":{},\"id\":\"bd24967e-d69e-4b31-bc46-caa19979ac44\",\"type\":\"BasicTickFormatter\"},{\"attributes\":{\"callback\":null,\"column_names\":[\"y\",\"x\"],\"data\":{\"x\":{\"__ndarray__\":\"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\",\"dtype\":\"float64\",\"shape\":[500]},\"y\":{\"__ndarray__\":\"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\",\"dtype\":\"float64\",\"shape\":[500]}}},\"id\":\"3034afc2-3776-41be-9ef0-6fbc96bcd829\",\"type\":\"ColumnDataSource\"},{\"attributes\":{},\"id\":\"5eaf7c56-b684-4d57-98ea-83868f1d40d3\",\"type\":\"PanTool\"},{\"attributes\":{},\"id\":\"33fc57ae-28f8-4f4d-a80f-9e784ce9bcb0\",\"type\":\"WheelZoomTool\"},{\"attributes\":{},\"id\":\"455f9ba4-fe31-4314-9951-7eb67ba3ebd1\",\"type\":\"SaveTool\"},{\"attributes\":{},\"id\":\"e7895339-7a78-4bbf-adc7-1c8c4836fc95\",\"type\":\"BasicTicker\"}],\"root_ids\":[\"a2f3f69a-9b0f-4644-b0ed-656ea4758e76\"]},\"title\":\"Bokeh Application\",\"version\":\"0.12.9\"}};\n",
       "    var render_items = [{\"docid\":\"fd1853d5-59e0-42c8-8ae7-f7a30e38541a\",\"elementid\":\"d90c27e7-277f-44f0-a223-175dfb56cb43\",\"modelid\":\"a2f3f69a-9b0f-4644-b0ed-656ea4758e76\"}];\n",
       "\n",
       "    root.Bokeh.embed.embed_items(docs_json, render_items);\n",
       "  }\n",
       "\n",
       "  if (root.Bokeh !== undefined) {\n",
       "    embed_document(root);\n",
       "  } else {\n",
       "    var attempts = 0;\n",
       "    var timer = setInterval(function(root) {\n",
       "      if (root.Bokeh !== undefined) {\n",
       "        embed_document(root);\n",
       "        clearInterval(timer);\n",
       "      }\n",
       "      attempts++;\n",
       "      if (attempts > 100) {\n",
       "        console.log(\"Bokeh: ERROR: Unable to embed document because BokehJS library is missing\")\n",
       "        clearInterval(timer);\n",
       "      }\n",
       "    }, 10, root)\n",
       "  }\n",
       "})(window);"
      ],
      "application/vnd.bokehjs_exec.v0+json": ""
     },
     "metadata": {
      "application/vnd.bokehjs_exec.v0+json": {
       "id": "a2f3f69a-9b0f-4644-b0ed-656ea4758e76"
      }
     },
     "output_type": "display_data"
    }
   ],
   "source": [
    "x, y = np.loadtxt('./data/data.txt').T\n",
    "\n",
    "p = figure(title=\"data plot\", x_axis_label='wavelength [nm]', y_axis_label='counts [a.u.]')\n",
    "p.line(x, y, legend=\"Temp.\", line_width=2)\n",
    "show(p)"
   ]
  },
  {
   "cell_type": "markdown",
   "metadata": {},
   "source": [
    "Clearly the data is a nice gaussian, so lets fit the function to get the center point and \n",
    "full-width at half max, which is given by \n",
    "\n",
    "$FWHM = 2\\sqrt{2 ln(2)}$\n",
    "\n",
    "First we import some code which contains the gauss equation, and the optimize function from scipy to do the curve fitting."
   ]
  },
  {
   "cell_type": "code",
   "execution_count": 15,
   "metadata": {},
   "outputs": [],
   "source": [
    "from scipy.optimize import curve_fit\n",
    "\n",
    "def gauss(t, a, b, c, d):\n",
    "    return a*np.exp(-((t-b)**2)/(2*c**2)) + d"
   ]
  },
  {
   "cell_type": "code",
   "execution_count": 16,
   "metadata": {},
   "outputs": [
    {
     "name": "stdout",
     "output_type": "stream",
     "text": [
      "a = 12032.075742 +- 164.192818\n",
      "b = 995.017541 +- 0.015373\n",
      "c = 0.979393 +- 0.015550\n",
      "d = 748.226468 +- 20.324062\n"
     ]
    }
   ],
   "source": [
    "p0 = [700, 990, 2, 0]\n",
    "params, cov = curve_fit(gauss, x, y, p0=p0)\n",
    "err = np.sqrt(np.diag(cov))\n",
    "\n",
    "print(\"a = %lf +- %lf\" % (params[0], err[0]))\n",
    "print(\"b = %lf +- %lf\" % (params[1], err[1]))\n",
    "print(\"c = %lf +- %lf\" % (params[2], err[2]))\n",
    "print(\"d = %lf +- %lf\" % (params[3], err[3]))"
   ]
  },
  {
   "cell_type": "code",
   "execution_count": 20,
   "metadata": {},
   "outputs": [
    {
     "data": {
      "text/html": [
       "\n",
       "<div class=\"bk-root\">\n",
       "    <div class=\"bk-plotdiv\" id=\"931abaa6-5d3c-476f-90fe-1d48850d1f3c\"></div>\n",
       "</div>"
      ]
     },
     "metadata": {},
     "output_type": "display_data"
    },
    {
     "data": {
      "application/javascript": [
       "(function(root) {\n",
       "  function embed_document(root) {\n",
       "    var docs_json = {\"0681ef79-462a-4c35-9321-8a25def8791d\":{\"roots\":{\"references\":[{\"attributes\":{\"source\":{\"id\":\"0510dafc-bcc1-4a02-bcac-132977455290\",\"type\":\"ColumnDataSource\"}},\"id\":\"aac8229d-9f13-49fc-bd30-bff639385ff0\",\"type\":\"CDSView\"},{\"attributes\":{},\"id\":\"0ec5e250-d0ec-4fbb-a85c-262f8c7fa337\",\"type\":\"PanTool\"},{\"attributes\":{\"line_alpha\":{\"value\":0.1},\"line_color\":{\"value\":\"#1f77b4\"},\"x\":{\"field\":\"x\"},\"y\":{\"field\":\"y\"}},\"id\":\"99c246d8-ec9c-4d64-bc77-3ec0c00effc6\",\"type\":\"Line\"},{\"attributes\":{\"source\":{\"id\":\"f8cbd81f-1c8b-4cbb-99a0-14cc483ee83b\",\"type\":\"ColumnDataSource\"}},\"id\":\"a5654cd3-7927-42a6-8350-a3d2a1cf7a15\",\"type\":\"CDSView\"},{\"attributes\":{},\"id\":\"ba71af26-96fb-4ccd-a5a6-0938117bcff0\",\"type\":\"BasicTicker\"},{\"attributes\":{\"below\":[{\"id\":\"c300a831-4a1b-478e-9cce-92e804ee7012\",\"type\":\"LinearAxis\"}],\"left\":[{\"id\":\"5a38d8ad-c06d-4978-9769-0b118e47c79e\",\"type\":\"LinearAxis\"}],\"renderers\":[{\"id\":\"c300a831-4a1b-478e-9cce-92e804ee7012\",\"type\":\"LinearAxis\"},{\"id\":\"117019f2-8e73-4838-8928-029967dc1eb4\",\"type\":\"Grid\"},{\"id\":\"5a38d8ad-c06d-4978-9769-0b118e47c79e\",\"type\":\"LinearAxis\"},{\"id\":\"8362abec-e76c-434d-a7e1-ac66cda323d1\",\"type\":\"Grid\"},{\"id\":\"87e2dbdc-856b-415d-960c-9f05ed87e555\",\"type\":\"BoxAnnotation\"},{\"id\":\"30d48402-4782-4565-b530-889e1d070224\",\"type\":\"Legend\"},{\"id\":\"a3564bd8-b2f0-4d05-89eb-ed5b4cfad986\",\"type\":\"GlyphRenderer\"},{\"id\":\"0f6022a8-3dcb-4d31-bea3-798aa78b5d32\",\"type\":\"GlyphRenderer\"}],\"title\":{\"id\":\"c71ca063-ef28-40c8-994a-6afa1dee6c94\",\"type\":\"Title\"},\"toolbar\":{\"id\":\"955c93f4-18d2-4285-853e-e2b685b91b5b\",\"type\":\"Toolbar\"},\"x_range\":{\"id\":\"10ac58fc-bb89-4a99-9a45-b73d2d1ae769\",\"type\":\"DataRange1d\"},\"x_scale\":{\"id\":\"4987c132-6b7e-4617-97cf-4d0ed58fc685\",\"type\":\"LinearScale\"},\"y_range\":{\"id\":\"032f2505-970e-455c-a9b5-20662b18a361\",\"type\":\"DataRange1d\"},\"y_scale\":{\"id\":\"e5c644c2-f883-456d-a6a5-6682b2da9738\",\"type\":\"LinearScale\"}},\"id\":\"5d2ba182-a2fc-4f05-8628-8dcd9d681431\",\"subtype\":\"Figure\",\"type\":\"Plot\"},{\"attributes\":{\"axis_label\":\"counts [a.u.]\",\"formatter\":{\"id\":\"14facf0a-01bd-4802-9edc-08ae3b8ab290\",\"type\":\"BasicTickFormatter\"},\"plot\":{\"id\":\"5d2ba182-a2fc-4f05-8628-8dcd9d681431\",\"subtype\":\"Figure\",\"type\":\"Plot\"},\"ticker\":{\"id\":\"1b7466ec-1abd-4a0f-a427-b4e5f538e0cc\",\"type\":\"BasicTicker\"}},\"id\":\"5a38d8ad-c06d-4978-9769-0b118e47c79e\",\"type\":\"LinearAxis\"},{\"attributes\":{\"items\":[{\"id\":\"335c89e1-e98d-4f7d-9f3a-0d49dadaf82b\",\"type\":\"LegendItem\"}],\"plot\":{\"id\":\"5d2ba182-a2fc-4f05-8628-8dcd9d681431\",\"subtype\":\"Figure\",\"type\":\"Plot\"}},\"id\":\"30d48402-4782-4565-b530-889e1d070224\",\"type\":\"Legend\"},{\"attributes\":{\"callback\":null},\"id\":\"032f2505-970e-455c-a9b5-20662b18a361\",\"type\":\"DataRange1d\"},{\"attributes\":{},\"id\":\"879e4633-4829-43fd-8b37-3351fd7e27e3\",\"type\":\"ResetTool\"},{\"attributes\":{\"bottom_units\":\"screen\",\"fill_alpha\":{\"value\":0.5},\"fill_color\":{\"value\":\"lightgrey\"},\"left_units\":\"screen\",\"level\":\"overlay\",\"line_alpha\":{\"value\":1.0},\"line_color\":{\"value\":\"black\"},\"line_dash\":[4,4],\"line_width\":{\"value\":2},\"plot\":null,\"render_mode\":\"css\",\"right_units\":\"screen\",\"top_units\":\"screen\"},\"id\":\"87e2dbdc-856b-415d-960c-9f05ed87e555\",\"type\":\"BoxAnnotation\"},{\"attributes\":{\"dimension\":1,\"plot\":{\"id\":\"5d2ba182-a2fc-4f05-8628-8dcd9d681431\",\"subtype\":\"Figure\",\"type\":\"Plot\"},\"ticker\":{\"id\":\"1b7466ec-1abd-4a0f-a427-b4e5f538e0cc\",\"type\":\"BasicTicker\"}},\"id\":\"8362abec-e76c-434d-a7e1-ac66cda323d1\",\"type\":\"Grid\"},{\"attributes\":{},\"id\":\"14facf0a-01bd-4802-9edc-08ae3b8ab290\",\"type\":\"BasicTickFormatter\"},{\"attributes\":{\"label\":{\"value\":\"Temp.\"},\"renderers\":[{\"id\":\"a3564bd8-b2f0-4d05-89eb-ed5b4cfad986\",\"type\":\"GlyphRenderer\"}]},\"id\":\"335c89e1-e98d-4f7d-9f3a-0d49dadaf82b\",\"type\":\"LegendItem\"},{\"attributes\":{\"callback\":null,\"column_names\":[\"y\",\"x\"],\"data\":{\"x\":{\"__ndarray__\":\"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\",\"dtype\":\"float64\",\"shape\":[500]},\"y\":{\"__ndarray__\":\"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\",\"dtype\":\"float64\",\"shape\":[500]}}},\"id\":\"0510dafc-bcc1-4a02-bcac-132977455290\",\"type\":\"ColumnDataSource\"},{\"attributes\":{\"line_color\":{\"value\":\"red\"},\"line_width\":{\"value\":2},\"x\":{\"field\":\"x\"},\"y\":{\"field\":\"y\"}},\"id\":\"937724ce-9f42-4ba6-8d26-4a220c3d1ced\",\"type\":\"Line\"},{\"attributes\":{\"axis_label\":\"wavelength [nm]\",\"formatter\":{\"id\":\"07211e3f-8cc2-4e01-a403-ba2bf9feb4d3\",\"type\":\"BasicTickFormatter\"},\"plot\":{\"id\":\"5d2ba182-a2fc-4f05-8628-8dcd9d681431\",\"subtype\":\"Figure\",\"type\":\"Plot\"},\"ticker\":{\"id\":\"ba71af26-96fb-4ccd-a5a6-0938117bcff0\",\"type\":\"BasicTicker\"}},\"id\":\"c300a831-4a1b-478e-9cce-92e804ee7012\",\"type\":\"LinearAxis\"},{\"attributes\":{\"plot\":null,\"text\":\"fit overlay\"},\"id\":\"c71ca063-ef28-40c8-994a-6afa1dee6c94\",\"type\":\"Title\"},{\"attributes\":{},\"id\":\"4987c132-6b7e-4617-97cf-4d0ed58fc685\",\"type\":\"LinearScale\"},{\"attributes\":{\"data_source\":{\"id\":\"0510dafc-bcc1-4a02-bcac-132977455290\",\"type\":\"ColumnDataSource\"},\"glyph\":{\"id\":\"45a54c76-c26d-47d4-8be3-f6c2e221d4ae\",\"type\":\"Line\"},\"hover_glyph\":null,\"muted_glyph\":null,\"nonselection_glyph\":{\"id\":\"99c246d8-ec9c-4d64-bc77-3ec0c00effc6\",\"type\":\"Line\"},\"selection_glyph\":null,\"view\":{\"id\":\"aac8229d-9f13-49fc-bd30-bff639385ff0\",\"type\":\"CDSView\"}},\"id\":\"a3564bd8-b2f0-4d05-89eb-ed5b4cfad986\",\"type\":\"GlyphRenderer\"},{\"attributes\":{\"active_drag\":\"auto\",\"active_inspect\":\"auto\",\"active_scroll\":\"auto\",\"active_tap\":\"auto\",\"tools\":[{\"id\":\"0ec5e250-d0ec-4fbb-a85c-262f8c7fa337\",\"type\":\"PanTool\"},{\"id\":\"05249d14-17e1-42c1-b889-2c1d3db1392e\",\"type\":\"WheelZoomTool\"},{\"id\":\"81ae1a9f-ba57-49e0-a5a2-349569819e47\",\"type\":\"BoxZoomTool\"},{\"id\":\"e13c72f4-6066-4ac9-8c3e-f328d43eccfe\",\"type\":\"SaveTool\"},{\"id\":\"879e4633-4829-43fd-8b37-3351fd7e27e3\",\"type\":\"ResetTool\"},{\"id\":\"61745c6d-5356-46a9-9b1b-a2178c46cc27\",\"type\":\"HelpTool\"}]},\"id\":\"955c93f4-18d2-4285-853e-e2b685b91b5b\",\"type\":\"Toolbar\"},{\"attributes\":{\"callback\":null},\"id\":\"10ac58fc-bb89-4a99-9a45-b73d2d1ae769\",\"type\":\"DataRange1d\"},{\"attributes\":{\"data_source\":{\"id\":\"f8cbd81f-1c8b-4cbb-99a0-14cc483ee83b\",\"type\":\"ColumnDataSource\"},\"glyph\":{\"id\":\"937724ce-9f42-4ba6-8d26-4a220c3d1ced\",\"type\":\"Line\"},\"hover_glyph\":null,\"muted_glyph\":null,\"nonselection_glyph\":{\"id\":\"7a2e7ef9-c375-478c-86f3-7e919f98bb13\",\"type\":\"Line\"},\"selection_glyph\":null,\"view\":{\"id\":\"a5654cd3-7927-42a6-8350-a3d2a1cf7a15\",\"type\":\"CDSView\"}},\"id\":\"0f6022a8-3dcb-4d31-bea3-798aa78b5d32\",\"type\":\"GlyphRenderer\"},{\"attributes\":{\"plot\":{\"id\":\"5d2ba182-a2fc-4f05-8628-8dcd9d681431\",\"subtype\":\"Figure\",\"type\":\"Plot\"},\"ticker\":{\"id\":\"ba71af26-96fb-4ccd-a5a6-0938117bcff0\",\"type\":\"BasicTicker\"}},\"id\":\"117019f2-8e73-4838-8928-029967dc1eb4\",\"type\":\"Grid\"},{\"attributes\":{},\"id\":\"e5c644c2-f883-456d-a6a5-6682b2da9738\",\"type\":\"LinearScale\"},{\"attributes\":{},\"id\":\"05249d14-17e1-42c1-b889-2c1d3db1392e\",\"type\":\"WheelZoomTool\"},{\"attributes\":{},\"id\":\"1b7466ec-1abd-4a0f-a427-b4e5f538e0cc\",\"type\":\"BasicTicker\"},{\"attributes\":{\"line_alpha\":{\"value\":0.1},\"line_color\":{\"value\":\"#1f77b4\"},\"line_width\":{\"value\":2},\"x\":{\"field\":\"x\"},\"y\":{\"field\":\"y\"}},\"id\":\"7a2e7ef9-c375-478c-86f3-7e919f98bb13\",\"type\":\"Line\"},{\"attributes\":{\"callback\":null,\"column_names\":[\"y\",\"x\"],\"data\":{\"x\":{\"__ndarray__\":\"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\",\"dtype\":\"float64\",\"shape\":[500]},\"y\":{\"__ndarray__\":\"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\",\"dtype\":\"float64\",\"shape\":[500]}}},\"id\":\"f8cbd81f-1c8b-4cbb-99a0-14cc483ee83b\",\"type\":\"ColumnDataSource\"},{\"attributes\":{},\"id\":\"07211e3f-8cc2-4e01-a403-ba2bf9feb4d3\",\"type\":\"BasicTickFormatter\"},{\"attributes\":{},\"id\":\"e13c72f4-6066-4ac9-8c3e-f328d43eccfe\",\"type\":\"SaveTool\"},{\"attributes\":{\"line_color\":{\"value\":\"#1f77b4\"},\"x\":{\"field\":\"x\"},\"y\":{\"field\":\"y\"}},\"id\":\"45a54c76-c26d-47d4-8be3-f6c2e221d4ae\",\"type\":\"Line\"},{\"attributes\":{},\"id\":\"61745c6d-5356-46a9-9b1b-a2178c46cc27\",\"type\":\"HelpTool\"},{\"attributes\":{\"overlay\":{\"id\":\"87e2dbdc-856b-415d-960c-9f05ed87e555\",\"type\":\"BoxAnnotation\"}},\"id\":\"81ae1a9f-ba57-49e0-a5a2-349569819e47\",\"type\":\"BoxZoomTool\"}],\"root_ids\":[\"5d2ba182-a2fc-4f05-8628-8dcd9d681431\"]},\"title\":\"Bokeh Application\",\"version\":\"0.12.9\"}};\n",
       "    var render_items = [{\"docid\":\"0681ef79-462a-4c35-9321-8a25def8791d\",\"elementid\":\"931abaa6-5d3c-476f-90fe-1d48850d1f3c\",\"modelid\":\"5d2ba182-a2fc-4f05-8628-8dcd9d681431\"}];\n",
       "\n",
       "    root.Bokeh.embed.embed_items(docs_json, render_items);\n",
       "  }\n",
       "\n",
       "  if (root.Bokeh !== undefined) {\n",
       "    embed_document(root);\n",
       "  } else {\n",
       "    var attempts = 0;\n",
       "    var timer = setInterval(function(root) {\n",
       "      if (root.Bokeh !== undefined) {\n",
       "        embed_document(root);\n",
       "        clearInterval(timer);\n",
       "      }\n",
       "      attempts++;\n",
       "      if (attempts > 100) {\n",
       "        console.log(\"Bokeh: ERROR: Unable to embed document because BokehJS library is missing\")\n",
       "        clearInterval(timer);\n",
       "      }\n",
       "    }, 10, root)\n",
       "  }\n",
       "})(window);"
      ],
      "application/vnd.bokehjs_exec.v0+json": ""
     },
     "metadata": {
      "application/vnd.bokehjs_exec.v0+json": {
       "id": "5d2ba182-a2fc-4f05-8628-8dcd9d681431"
      }
     },
     "output_type": "display_data"
    }
   ],
   "source": [
    "p = figure(title=\"fit overlay\", x_axis_label='wavelength [nm]', y_axis_label='counts [a.u.]')\n",
    "p.line(x, y, legend=\"Temp.\", line_width=1)\n",
    "p.line(x, gauss(x, *params), line_width=2, line_color='red')\n",
    "show(p)"
   ]
  },
  {
   "cell_type": "markdown",
   "metadata": {},
   "source": [
    "So here we have a pretty good fit, and we were able to find the intensity, center point and width of the curve.\n",
    "Lets just finally calculate the FWHM"
   ]
  },
  {
   "cell_type": "code",
   "execution_count": 7,
   "metadata": {},
   "outputs": [
    {
     "name": "stdout",
     "output_type": "stream",
     "text": [
      "2.35482004503\n"
     ]
    }
   ],
   "source": [
    "FWHM = 2*np.sqrt(2*np.log(2))\n",
    "print(FWHM)"
   ]
  },
  {
   "cell_type": "code",
   "execution_count": null,
   "metadata": {
    "collapsed": true
   },
   "outputs": [],
   "source": []
  }
 ],
 "metadata": {
  "kernelspec": {
   "display_name": "Python 3",
   "language": "python",
   "name": "python3"
  },
  "language_info": {
   "codemirror_mode": {
    "name": "ipython",
    "version": 3
   },
   "file_extension": ".py",
   "mimetype": "text/x-python",
   "name": "python",
   "nbconvert_exporter": "python",
   "pygments_lexer": "ipython3",
   "version": "3.5.2"
  }
 },
 "nbformat": 4,
 "nbformat_minor": 2
}
